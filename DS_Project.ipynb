{
 "cells": [
  {
   "cell_type": "code",
   "execution_count": 33,
   "id": "23c97a06",
   "metadata": {},
   "outputs": [],
   "source": [
    "import numpy as np\n",
    "import pandas as pd\n",
    "from sklearn.tree import DecisionTreeClassifier # Import Decision Tree Classifier\n",
    "from sklearn.model_selection import train_test_split # Import train_test_split function\n",
    "from sklearn import metrics #Import scikit-learn metrics module for accuracy calculation"
   ]
  },
  {
   "cell_type": "code",
   "execution_count": 34,
   "id": "94862eb7",
   "metadata": {},
   "outputs": [],
   "source": [
    "# global variables\n",
    "start_features = [\"Age\", \"Department\"]\n",
    "target = \"Attrition\"\n",
    "\n"
   ]
  },
  {
   "cell_type": "code",
   "execution_count": 35,
   "id": "c3ceb9c6",
   "metadata": {},
   "outputs": [],
   "source": [
    "def main():\n",
    "    # create dataframe with project's data set\n",
    "    df = pd.read_csv('HR.csv')\n",
    "    \n",
    "    # clean the data\n",
    "    clean_df = clean_data(df)\n",
    "    \n",
    "    # get features matrix X and target variable y\n",
    "    X, y = feature_selection(clean_df)\n",
    "    \n",
    "    # Split dataset into training set and test set\n",
    "    X_train, X_test, y_train, y_test = train_test_split(X, y, test_size=0.3, random_state=1)\n",
    "\n",
    "    # Create Decision Tree classifer object\n",
    "    clf = DecisionTreeClassifier()\n",
    "\n",
    "    # Train Decision Tree Classifer\n",
    "    clf = clf.fit(X_train,y_train)\n",
    "\n",
    "    #Predict the response for test dataset\n",
    "    y_pred = clf.predict(X_test)\n",
    "    \n",
    "    # Model Accuracy\n",
    "    print(\"Accuracy:\",metrics.accuracy_score(y_test, y_pred))\n",
    "    "
   ]
  },
  {
   "cell_type": "code",
   "execution_count": 36,
   "id": "7264a3a9",
   "metadata": {},
   "outputs": [],
   "source": [
    "def extract_categoricals(df):\n",
    "    # extract a list of all categorical features for feature engineering\n",
    "    cat_features = df.select_dtypes(include=['object']).columns.tolist()\n",
    "    return cat_features\n",
    "    \n",
    "        "
   ]
  },
  {
   "cell_type": "code",
   "execution_count": 37,
   "id": "4befc72e",
   "metadata": {},
   "outputs": [],
   "source": [
    "def clean_data(df):\n",
    "    # drop columns that are not needed\n",
    "    for col_header in df.columns:\n",
    "        if col_header not in start_features and col_header != target:\n",
    "            df.drop(col_header, axis = 1, inplace=True) \n",
    "            \n",
    "    # drop rows that contain at least one empty cell\n",
    "    df.dropna(axis='rows', thresh=1)\n",
    "    \n",
    "    # change Yes or No in Attrition column to 0 and 1\n",
    "    df[target] = df[target].map({'Yes': 1, 'No': 0})\n",
    "    \n",
    "    # feature enigneering for categorical data\n",
    "    df = pd.get_dummies(data=df, columns=extract_categoricals(df))   \n",
    "    return df\n"
   ]
  },
  {
   "cell_type": "code",
   "execution_count": 38,
   "id": "9a849957",
   "metadata": {},
   "outputs": [],
   "source": [
    "def feature_selection(df):\n",
    "    # get new feature list\n",
    "    features = df.columns.tolist()\n",
    "    \n",
    "    # exclude target from features\n",
    "    features.pop(features.index(target))\n",
    "    \n",
    "    # split dataset in features and target variable\n",
    "    X = df[features] # Features Matrix\n",
    "    y = df[target] # Target variable\n",
    "    return X, y\n"
   ]
  },
  {
   "cell_type": "code",
   "execution_count": 39,
   "id": "25fef512",
   "metadata": {},
   "outputs": [
    {
     "name": "stdout",
     "output_type": "stream",
     "text": [
      "Accuracy: 0.8163265306122449\n"
     ]
    }
   ],
   "source": [
    "# test\n",
    "if __name__ == '__main__':\n",
    "    main()\n",
    "\n"
   ]
  }
 ],
 "metadata": {
  "kernelspec": {
   "display_name": "Python 3 (ipykernel)",
   "language": "python",
   "name": "python3"
  },
  "language_info": {
   "codemirror_mode": {
    "name": "ipython",
    "version": 3
   },
   "file_extension": ".py",
   "mimetype": "text/x-python",
   "name": "python",
   "nbconvert_exporter": "python",
   "pygments_lexer": "ipython3",
   "version": "3.9.13"
  }
 },
 "nbformat": 4,
 "nbformat_minor": 5
}
