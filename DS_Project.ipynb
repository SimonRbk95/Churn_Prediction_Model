{
 "cells": [
  {
   "cell_type": "code",
   "execution_count": 5,
   "id": "e6563f4f",
   "metadata": {},
   "outputs": [],
   "source": [
    "import numpy as np\n",
    "import pandas as pd\n",
    "from sklearn.tree import DecisionTreeClassifier # Import Decision Tree Classifier\n",
    "from sklearn.model_selection import train_test_split # Import train_test_split function\n",
    "from sklearn import metrics #Import scikit-learn metrics module for accuracy calculation"
   ]
  },
  {
   "cell_type": "code",
   "execution_count": 8,
   "id": "32708431",
   "metadata": {},
   "outputs": [],
   "source": [
    "# global variables\n",
    "start_features = [\"Age\", \"Department\"]\n",
    "target = \"Attrition\"\n",
    "\n"
   ]
  },
  {
   "cell_type": "code",
   "execution_count": 101,
   "id": "001c375e",
   "metadata": {},
   "outputs": [],
   "source": [
    "def main():\n",
    "    # create dataframe with project's data set\n",
    "    df = pd.read_csv('HR.csv')\n",
    "    # clean the data\n",
    "    clean_df = clean_data(df)\n",
    "    # get features matrix X and target variable y\n",
    "    X, y = feature_selection(clean_df)\n",
    "    "
   ]
  },
  {
   "cell_type": "code",
   "execution_count": 12,
   "id": "b56f9ec5",
   "metadata": {},
   "outputs": [],
   "source": [
    "def extract_categoricals(df):\n",
    "    # extract a list of all categorical features for feature engineering\n",
    "    cat_features = df.select_dtypes(include=['object']).columns.tolist()\n",
    "    return cat_features\n",
    "    \n",
    "        "
   ]
  },
  {
   "cell_type": "code",
   "execution_count": 14,
   "id": "37c995e0",
   "metadata": {},
   "outputs": [],
   "source": [
    "def clean_data(df):\n",
    "    # drop columns that are not needed\n",
    "    for col_header in df.columns:\n",
    "        if col_header not in start_features and col_header != target:\n",
    "            df.drop(col_header, axis = 1, inplace=True)         \n",
    "    # drop rows that contain at least one empty cell\n",
    "    df.dropna(axis='rows', thresh=1)\n",
    "    # change Yes or No in Attrition column to 0 and 1\n",
    "    df[target] = df[target].map({'Yes': 1, 'No': 0})\n",
    "    # feature enigneering for categorical data\n",
    "    df = pd.get_dummies(data=df, columns=extract_categoricals(df))   \n",
    "    return df\n"
   ]
  },
  {
   "cell_type": "code",
   "execution_count": 23,
   "id": "4e563ed7",
   "metadata": {},
   "outputs": [],
   "source": [
    "def feature_selection(df):\n",
    "    # get new feature list\n",
    "    features = df.columns.tolist()\n",
    "    # exclude target from features\n",
    "    features.pop(features.index(target))\n",
    "    # split dataset in features and target variable\n",
    "    X = df[features] # Features Matrix\n",
    "    y = df[target] # Target variable\n",
    "    return X, y\n"
   ]
  },
  {
   "cell_type": "code",
   "execution_count": 110,
   "id": "6dd7801f",
   "metadata": {},
   "outputs": [],
   "source": [
    "def construct_tree(X,y):\n",
    "    decision_tree = DecisionTreeClassifier(random_state=0, max_depth=2)\n",
    "    decision_tree = decision_tree.fit(X.data, y.target)\n",
    "    tree.plot_tree(decision_tree)"
   ]
  },
  {
   "cell_type": "code",
   "execution_count": 24,
   "id": "f78fee64",
   "metadata": {},
   "outputs": [
    {
     "name": "stdout",
     "output_type": "stream",
     "text": [
      "X:        Age  Department_Human Resources  Department_Research & Development  \\\n",
      "0      41                           0                                  0   \n",
      "1      49                           0                                  1   \n",
      "2      37                           0                                  1   \n",
      "3      33                           0                                  1   \n",
      "4      27                           0                                  1   \n",
      "...   ...                         ...                                ...   \n",
      "1465   36                           0                                  1   \n",
      "1466   39                           0                                  1   \n",
      "1467   27                           0                                  1   \n",
      "1468   49                           0                                  0   \n",
      "1469   34                           0                                  1   \n",
      "\n",
      "      Department_Sales  \n",
      "0                    1  \n",
      "1                    0  \n",
      "2                    0  \n",
      "3                    0  \n",
      "4                    0  \n",
      "...                ...  \n",
      "1465                 0  \n",
      "1466                 0  \n",
      "1467                 0  \n",
      "1468                 1  \n",
      "1469                 0  \n",
      "\n",
      "[1470 rows x 4 columns]\n",
      "y:  0       1\n",
      "1       0\n",
      "2       1\n",
      "3       0\n",
      "4       0\n",
      "       ..\n",
      "1465    0\n",
      "1466    0\n",
      "1467    0\n",
      "1468    0\n",
      "1469    0\n",
      "Name: Attrition, Length: 1470, dtype: int64\n"
     ]
    }
   ],
   "source": [
    "# test\n",
    "df = pd.read_csv('HR.csv')\n",
    "# clean the data\n",
    "clean_df = clean_data(df)\n",
    "\n",
    "# get features matrix X and target variable y\n",
    "X, y = feature_selection(clean_df)\n",
    "print(\"X: \", X)\n",
    "print(\"y: \", y)\n",
    "\n"
   ]
  },
  {
   "cell_type": "code",
   "execution_count": null,
   "id": "f94f57d0",
   "metadata": {},
   "outputs": [],
   "source": []
  }
 ],
 "metadata": {
  "kernelspec": {
   "display_name": "Python 3 (ipykernel)",
   "language": "python",
   "name": "python3"
  },
  "language_info": {
   "codemirror_mode": {
    "name": "ipython",
    "version": 3
   },
   "file_extension": ".py",
   "mimetype": "text/x-python",
   "name": "python",
   "nbconvert_exporter": "python",
   "pygments_lexer": "ipython3",
   "version": "3.9.13"
  }
 },
 "nbformat": 4,
 "nbformat_minor": 5
}
