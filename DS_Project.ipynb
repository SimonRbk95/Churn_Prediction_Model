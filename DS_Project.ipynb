{
 "cells": [
  {
   "cell_type": "code",
   "execution_count": 25,
   "id": "a219ec0b",
   "metadata": {},
   "outputs": [],
   "source": [
    "import numpy as np\n",
    "import pandas as pd\n",
    "from sklearn.feature_extraction import DictVectorizer # Feature Engineering\n",
    "from sklearn.tree import DecisionTreeClassifier # Import Decision Tree Classifier\n",
    "from sklearn.model_selection import train_test_split # Import train_test_split function\n",
    "from sklearn import metrics #Import scikit-learn metrics module for accuracy calculation"
   ]
  },
  {
   "cell_type": "code",
   "execution_count": 26,
   "id": "00699dfb",
   "metadata": {},
   "outputs": [],
   "source": [
    "# global variables\n",
    "features = [\"Age\", \"Gender\", \"Department\", \"DailyRate\"] # to be determined\n",
    "target = \"Attrition\"\n"
   ]
  },
  {
   "cell_type": "code",
   "execution_count": 27,
   "id": "1611d257",
   "metadata": {},
   "outputs": [],
   "source": [
    "def main():\n",
    "    # create dataframe with project's data set\n",
    "    df = pd.read_csv('HR.csv')\n",
    "    # clean the data\n",
    "    clean_df = clean_data(df)\n",
    "    # get features matrix X and target variable y\n",
    "    X, y = feature_selection(clean_df)\n",
    "    "
   ]
  },
  {
   "cell_type": "code",
   "execution_count": 49,
   "id": "a1bc5939",
   "metadata": {},
   "outputs": [],
   "source": [
    "def clean_data(df):\n",
    "    # drop columns that are not needed\n",
    "    for col_header in df.columns:\n",
    "        if col_header not in features and col_header != target:\n",
    "            df.drop(col_header, axis = 1, inplace=True)\n",
    "    # drop rows that contain at least one empty cell\n",
    "    df.dropna(axis='rows')\n",
    "    \n",
    "    # feature enigneering for categorical data\n",
    "    # feature engineering for text data\n",
    "    \n",
    "    return df\n"
   ]
  },
  {
   "cell_type": "code",
   "execution_count": 33,
   "id": "c6b44666",
   "metadata": {},
   "outputs": [],
   "source": [
    "def feature_selection(df):\n",
    "    # split dataset in features and target variable\n",
    "    X = df[features] # Features Matrix\n",
    "    y = df[target] # Target variable\n",
    "    return X, y\n"
   ]
  },
  {
   "cell_type": "code",
   "execution_count": 50,
   "id": "f45beaed",
   "metadata": {},
   "outputs": [
    {
     "name": "stdout",
     "output_type": "stream",
     "text": [
      "      Age Attrition  DailyRate              Department  Gender\n",
      "0      41       Yes       1102                   Sales  Female\n",
      "1      49        No        279  Research & Development    Male\n",
      "2      37       Yes       1373  Research & Development    Male\n",
      "3      33        No       1392  Research & Development  Female\n",
      "4      27        No        591  Research & Development    Male\n",
      "...   ...       ...        ...                     ...     ...\n",
      "1465   36        No        884  Research & Development    Male\n",
      "1466   39        No        613  Research & Development    Male\n",
      "1467   27        No        155  Research & Development    Male\n",
      "1468   49        No       1023                   Sales    Male\n",
      "1469   34        No        628  Research & Development    Male\n",
      "\n",
      "[1470 rows x 5 columns]\n"
     ]
    }
   ],
   "source": [
    "# test\n",
    "df = pd.read_csv('HR.csv')\n",
    "print(clean_data(df))\n",
    "\n"
   ]
  },
  {
   "cell_type": "code",
   "execution_count": null,
   "id": "72c3b38a",
   "metadata": {},
   "outputs": [],
   "source": []
  }
 ],
 "metadata": {
  "kernelspec": {
   "display_name": "Python 3 (ipykernel)",
   "language": "python",
   "name": "python3"
  },
  "language_info": {
   "codemirror_mode": {
    "name": "ipython",
    "version": 3
   },
   "file_extension": ".py",
   "mimetype": "text/x-python",
   "name": "python",
   "nbconvert_exporter": "python",
   "pygments_lexer": "ipython3",
   "version": "3.9.13"
  }
 },
 "nbformat": 4,
 "nbformat_minor": 5
}
