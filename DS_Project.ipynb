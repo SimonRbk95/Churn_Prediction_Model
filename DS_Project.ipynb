{
 "cells": [
  {
   "cell_type": "code",
   "execution_count": 25,
   "id": "5da89766",
   "metadata": {},
   "outputs": [],
   "source": [
    "import numpy as np\n",
    "import pandas as pd\n",
    "from sklearn.tree import DecisionTreeClassifier # Import Decision Tree Classifier\n",
    "from sklearn.model_selection import train_test_split # Import train_test_split function\n",
    "from sklearn import metrics #Import scikit-learn metrics module for accuracy calculation"
   ]
  },
  {
   "cell_type": "code",
   "execution_count": 65,
   "id": "385a74f8",
   "metadata": {},
   "outputs": [],
   "source": [
    "# global variables\n",
    "features = [\"Age\", \"Gender\", \"Department\"] # to be determined\n",
    "target = \"Attrition\"\n"
   ]
  },
  {
   "cell_type": "code",
   "execution_count": 27,
   "id": "457b7875",
   "metadata": {},
   "outputs": [],
   "source": [
    "def main():\n",
    "    # create dataframe with project's data set\n",
    "    df = pd.read_csv('HR.csv')\n",
    "    # clean the data\n",
    "    clean_df = clean_data(df)\n",
    "    # get features matrix X and target variable y\n",
    "    X, y = feature_selection(clean_df)\n",
    "    "
   ]
  },
  {
   "cell_type": "code",
   "execution_count": 72,
   "id": "899d66a5",
   "metadata": {},
   "outputs": [],
   "source": [
    "def extract_categorical(df):\n",
    "    # extract a list of all categorical features for feature engineering\n",
    "    return df.select_dtypes(include=['object']).columns.tolist()"
   ]
  },
  {
   "cell_type": "code",
   "execution_count": 68,
   "id": "eca5c98e",
   "metadata": {},
   "outputs": [],
   "source": [
    "def clean_data(df):\n",
    "    # drop columns that are not needed\n",
    "    for col_header in df.columns:\n",
    "        if col_header not in features and col_header != target:\n",
    "            df.drop(col_header, axis = 1, inplace=True)         \n",
    "    # drop rows that contain at least one empty cell\n",
    "    df.dropna(axis='rows')    \n",
    "    # feature enigneering for categorical data\n",
    "    df = pd.get_dummies(data=df, columns=extract_categorical(df))   \n",
    "    return df\n"
   ]
  },
  {
   "cell_type": "code",
   "execution_count": 33,
   "id": "94f536bb",
   "metadata": {},
   "outputs": [],
   "source": [
    "def feature_selection(df):\n",
    "    # split dataset in features and target variable\n",
    "    X = df[features] # Features Matrix\n",
    "    y = df[target] # Target variable\n",
    "    return X, y\n"
   ]
  },
  {
   "cell_type": "code",
   "execution_count": 71,
   "id": "c4619874",
   "metadata": {},
   "outputs": [
    {
     "name": "stdout",
     "output_type": "stream",
     "text": [
      "      Age  Attrition_No  Attrition_Yes  Department_Human Resources  \\\n",
      "0      41             0              1                           0   \n",
      "1      49             1              0                           0   \n",
      "2      37             0              1                           0   \n",
      "3      33             1              0                           0   \n",
      "4      27             1              0                           0   \n",
      "...   ...           ...            ...                         ...   \n",
      "1465   36             1              0                           0   \n",
      "1466   39             1              0                           0   \n",
      "1467   27             1              0                           0   \n",
      "1468   49             1              0                           0   \n",
      "1469   34             1              0                           0   \n",
      "\n",
      "      Department_Research & Development  Department_Sales  Gender_Female  \\\n",
      "0                                     0                 1              1   \n",
      "1                                     1                 0              0   \n",
      "2                                     1                 0              0   \n",
      "3                                     1                 0              1   \n",
      "4                                     1                 0              0   \n",
      "...                                 ...               ...            ...   \n",
      "1465                                  1                 0              0   \n",
      "1466                                  1                 0              0   \n",
      "1467                                  1                 0              0   \n",
      "1468                                  0                 1              0   \n",
      "1469                                  1                 0              0   \n",
      "\n",
      "      Gender_Male  \n",
      "0               0  \n",
      "1               1  \n",
      "2               1  \n",
      "3               0  \n",
      "4               1  \n",
      "...           ...  \n",
      "1465            1  \n",
      "1466            1  \n",
      "1467            1  \n",
      "1468            1  \n",
      "1469            1  \n",
      "\n",
      "[1470 rows x 8 columns]\n"
     ]
    }
   ],
   "source": [
    "# test\n",
    "df = pd.read_csv('HR.csv')\n",
    "print(clean_data(df))\n",
    "\n"
   ]
  },
  {
   "cell_type": "code",
   "execution_count": null,
   "id": "d25a5d61",
   "metadata": {},
   "outputs": [],
   "source": []
  }
 ],
 "metadata": {
  "kernelspec": {
   "display_name": "Python 3 (ipykernel)",
   "language": "python",
   "name": "python3"
  },
  "language_info": {
   "codemirror_mode": {
    "name": "ipython",
    "version": 3
   },
   "file_extension": ".py",
   "mimetype": "text/x-python",
   "name": "python",
   "nbconvert_exporter": "python",
   "pygments_lexer": "ipython3",
   "version": "3.9.13"
  }
 },
 "nbformat": 4,
 "nbformat_minor": 5
}
