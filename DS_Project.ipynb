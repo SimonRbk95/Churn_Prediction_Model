{
 "cells": [
  {
   "cell_type": "code",
   "execution_count": 2,
   "id": "ef72ec59",
   "metadata": {},
   "outputs": [],
   "source": [
    "# choose the dependent/target variable >>attrition<< \n",
    "    # and features/independent variables (TBA - e.g., age, job satisfaction, etc.)\n",
    "\n",
    "# load csv file into pandas dataframe\n",
    "\n",
    "# data visualization based on certain features with Matplotlib??\n",
    "\n",
    "# clean the data (all with pandas methods unless implicated otherwise)\n",
    "    # drop columns in dataframe for not needed features\n",
    "    # deal with missing data - multiple valid solutions possible\n",
    "    # deal with duplicate records\n",
    "    # deal with outliers of certain features\n",
    "        # visualize all outliers via boxplots with import seaborn and matplotlib\n",
    "    # possibly change index of the DataFrame to something more useful\n",
    "    # check all data types\n",
    "    # feature engineering for categorical or text features (from sklearn.feature_extraction import DictVectorizer or on-hote encoding) 2\n",
    "\n",
    "# create a decision tree (machine learning algorithm) using sklearn\n",
    "# train the algorithm\n",
    "# make predictions via sklearn methods\n",
    "# test the accuracy\n",
    "\n",
    "# optimization of decision tree performance\n",
    "    # define the depth of the tree\n",
    "    # use the gini impurity or entropy as information gain criterion\n",
    "    # asses the relative feature importance\n",
    "\n",
    "# export tree graphics via graphviz\n",
    "# export model for reuse without training it again"
   ]
  },
  {
   "cell_type": "code",
   "execution_count": null,
   "id": "d24a041d",
   "metadata": {},
   "outputs": [],
   "source": []
  }
 ],
 "metadata": {
  "kernelspec": {
   "display_name": "Python 3 (ipykernel)",
   "language": "python",
   "name": "python3"
  },
  "language_info": {
   "codemirror_mode": {
    "name": "ipython",
    "version": 3
   },
   "file_extension": ".py",
   "mimetype": "text/x-python",
   "name": "python",
   "nbconvert_exporter": "python",
   "pygments_lexer": "ipython3",
   "version": "3.9.13"
  }
 },
 "nbformat": 4,
 "nbformat_minor": 5
}
