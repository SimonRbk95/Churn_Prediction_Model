{
 "cells": [
  {
   "cell_type": "code",
   "execution_count": 3,
   "id": "2a13b87d",
   "metadata": {},
   "outputs": [],
   "source": [
    "import numpy as np\n",
    "import pandas as pd\n",
    "from sklearn.tree import DecisionTreeClassifier # Import Decision Tree Classifier\n",
    "from sklearn.ensemble import RandomForestClassifier # Import RandomForestClassifier\n",
    "from sklearn.model_selection import train_test_split # Import train_test_split function\n",
    "from sklearn import metrics #Import scikit-learn metrics module for accuracy calculation\n",
    "from sklearn.metrics import classification_report, confusion_matrix\n",
    "\n",
    "from imblearn.over_sampling import RandomOverSampler\n",
    "from imblearn.under_sampling import RandomUnderSampler\n",
    "\n",
    "# Import feature and tree visualization\n",
    "import seaborn as sns\n",
    "import matplotlib.pyplot as plt\n",
    "from sklearn import tree\n",
    "from matplotlib import style\n",
    "\n",
    "import plotly.express as px #for visualization\n"
   ]
  },
  {
   "cell_type": "code",
   "execution_count": 44,
   "id": "addcf1ef",
   "metadata": {},
   "outputs": [],
   "source": [
    "# create dataframe with project's data set\n",
    "df = pd.read_csv('HR.csv')"
   ]
  },
  {
   "cell_type": "markdown",
   "id": "7f71add8",
   "metadata": {},
   "source": [
    "### Data Preprocesssing"
   ]
  },
  {
   "cell_type": "code",
   "execution_count": 45,
   "id": "59c8664b",
   "metadata": {},
   "outputs": [
    {
     "name": "stdout",
     "output_type": "stream",
     "text": [
      "Highly correlated feature:  ['MonthlyIncome']\n"
     ]
    }
   ],
   "source": [
    "# deleting clearly unuseful variables (employee count, employee number, over 18, Standard Hours)\n",
    "df = df.drop(['EmployeeCount', 'EmployeeNumber', 'Over18', \"StandardHours\"], axis=1)\n",
    "\n",
    "# drop rows that contain at least one empty cell\n",
    "df.dropna(axis='rows', thresh=1)\n",
    "\n",
    "# feature engineering\n",
    "def binary_map(feature):\n",
    "    return feature.map({'Yes':1, 'No':0})\n",
    "\n",
    "# encoding Gender categorical data\n",
    "df['Gender'] = df['Gender'].map({'Male':1, 'Female':0})\n",
    "\n",
    "# encoding Attrition and Overtime\n",
    "binary_list = ['Attrition', 'OverTime']\n",
    "df[binary_list] = df[binary_list].apply(binary_map)\n",
    "\n",
    "# one-hot encoding of features with more than two categories\n",
    "df = pd.get_dummies(df, drop_first=True)\n",
    "\n",
    "# visualize correlation between features\n",
    "# which correlation method makes most sense for our data set?\n",
    "corr = df.corr(method='pearson')\n",
    "fig = px.imshow(corr,width=800, height=800)\n",
    "fig.show()\n",
    "\n",
    "# potentially drop highly correleated features\n",
    "# explain why we will or will not drop the feature\n",
    "cor_matrix = df.corr().abs()\n",
    "upper_tri = cor_matrix.where(np.triu(np.ones(cor_matrix.shape), k=1).astype(np.bool_))\n",
    "to_drop = [column for column in upper_tri.columns if any(upper_tri[column] > 0.95)]\n",
    "df = df.drop(columns=to_drop, axis=1)\n",
    "print(\"Highly correlated feature(s) dropped: \", to_drop)\n",
    "\n",
    "# GLM regression model to see which features are most important in relation to target variable\n",
    "pass\n",
    "\n",
    "# take the exponent of the variable coefficents to determine which features are most important for training the model\n",
    "pass\n",
    "\n",
    "# feature scaling\n",
    "pass"
   ]
  },
  {
   "cell_type": "markdown",
   "id": "679f1f2a",
   "metadata": {},
   "source": [
    "## ML Model"
   ]
  },
  {
   "cell_type": "code",
   "execution_count": null,
   "id": "06f7e27c",
   "metadata": {},
   "outputs": [],
   "source": [
    "# create baseline model\n",
    "pass\n",
    "\n",
    "# feature selection \n",
    "pass\n",
    "\n",
    "# use different models\n",
    "pass"
   ]
  },
  {
   "cell_type": "markdown",
   "id": "60bd0492",
   "metadata": {},
   "source": [
    "## Export Final Model"
   ]
  }
 ],
 "metadata": {
  "kernelspec": {
   "display_name": "Python 3 (ipykernel)",
   "language": "python",
   "name": "python3"
  },
  "language_info": {
   "codemirror_mode": {
    "name": "ipython",
    "version": 3
   },
   "file_extension": ".py",
   "mimetype": "text/x-python",
   "name": "python",
   "nbconvert_exporter": "python",
   "pygments_lexer": "ipython3",
   "version": "3.9.13"
  }
 },
 "nbformat": 4,
 "nbformat_minor": 5
}
